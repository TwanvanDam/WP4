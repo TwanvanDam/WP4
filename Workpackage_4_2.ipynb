{
  "nbformat": 4,
  "nbformat_minor": 0,
  "metadata": {
    "colab": {
      "provenance": [],
      "authorship_tag": "ABX9TyNfJeJBFVP211UHq9xc75tv",
      "include_colab_link": true
    },
    "kernelspec": {
      "name": "python3",
      "display_name": "Python 3"
    },
    "language_info": {
      "name": "python"
    }
  },
  "cells": [
    {
      "cell_type": "markdown",
      "metadata": {
        "id": "view-in-github",
        "colab_type": "text"
      },
      "source": [
        "<a href=\"https://colab.research.google.com/github/TwanvanDam/WP4/blob/main/Workpackage_4_2.ipynb\" target=\"_parent\"><img src=\"https://colab.research.google.com/assets/colab-badge.svg\" alt=\"Open In Colab\"/></a>"
      ]
    },
    {
      "cell_type": "code",
      "execution_count": null,
      "metadata": {
        "colab": {
          "base_uri": "https://localhost:8080/",
          "height": 387
        },
        "id": "FuWB7fM-F9CQ",
        "outputId": "c7913122-ad29-4f1d-e9d7-8049991ded9f"
      },
      "outputs": [
        {
          "output_type": "stream",
          "name": "stdout",
          "text": [
            "(4.270654687858892, 0.0004731697566926485)\n"
          ]
        },
        {
          "output_type": "stream",
          "name": "stderr",
          "text": [
            "/usr/local/lib/python3.7/dist-packages/ipykernel_launcher.py:45: IntegrationWarning: The maximum number of subdivisions (50) has been achieved.\n",
            "  If increasing the limit yields no improvement it is advised to analyze \n",
            "  the integrand in order to determine the difficulties.  If the position of a \n",
            "  local difficulty can be determined (singularity, discontinuity) one will \n",
            "  probably gain from splitting up the interval and calling the integrator \n",
            "  on the subranges.  Perhaps a special-purpose integrator should be used.\n"
          ]
        },
        {
          "output_type": "display_data",
          "data": {
            "text/plain": [
              "<Figure size 432x288 with 1 Axes>"
            ],
            "image/png": "[encoded data removed]"
          },
          "metadata": {
            "needs_background": "light"
          }
        }
      ],
      "source": [
        "import matplotlib.pyplot as plt\n",
        "import numpy as np\n",
        "import scipy as sp\n",
        "from scipy import interpolate , integrate\n",
        "kjpi\n",
        "lam = 0.28\n",
        "b = 68.85\n",
        "cr = 9.78\n",
        "dihedral = 1.56\n",
        "width = 0.45\n",
        "height = 0.12\n",
        "t = 0.005\n",
        "a = 0.001\n",
        "\n",
        "def chord_length(y):\n",
        "    c = cr - (cr*(1-lam)/(b/2))*y\n",
        "    return c\n",
        "\n",
        "def moment_inertia(y):\n",
        "    w = width * chord_length(y)\n",
        "    h = height * chord_length(y)\n",
        "    M_outer = 1/12 * (w+t/2) * (h+t/2)**3\n",
        "    M_inner = 1/12 * (w-t/2) * (h-t/2)**3\n",
        "    M_stringer = a * (h/2)**2\n",
        "    return  M_outer - M_inner + M_stringer\n",
        "\n",
        "y = b/2\n",
        "n = 1000\n",
        "\n",
        "y_list = []\n",
        "I_list = []\n",
        "\n",
        "\n",
        "for i in range(n+1):\n",
        "    y -= ((b/2)/n)\n",
        "    y_list.append(y)\n",
        "    i = moment_inertia(y)\n",
        "    I_list.append(i)\n",
        "\n",
        "I_cont = sp.interpolate.interp1d(y_list,I_list,kind=\"previous\",fill_value=\"extrapolate\")\n",
        "\n",
        "M_cont = 10e6\n",
        "E = 72e9\n",
        "\n",
        "Integ1 = sp.integrate.quad(lambda x: (M_cont/(E*I_cont(x))),0,b/2)\n",
        "print(Integ1)\n",
        "\n",
        "\n",
        "\n",
        "plt.plot(y_list,I_list)\n",
        "plt.show()\n",
        "    \n",
        "\n",
        "\n",
        "\n",
        "\n"
      ]
    }
  ]
}